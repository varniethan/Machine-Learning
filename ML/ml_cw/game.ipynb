{
 "cells": [
  {
   "cell_type": "code",
   "execution_count": 6,
   "metadata": {},
   "outputs": [
    {
     "name": "stdout",
     "output_type": "stream",
     "text": [
      "[[-5 -4  5 -2 -8]\n",
      " [-1 -3  5  4 -9]\n",
      " [ 9 -8  6  4  6]\n",
      " [ 8  8 -7 -3 -2]\n",
      " [ 0  8  5  6  3]]\n",
      "[[ 5  4 -5  2  8]\n",
      " [ 1  3 -5 -4  9]\n",
      " [-9  8 -6 -4 -6]\n",
      " [-8 -8  7  3  2]\n",
      " [ 0 -8 -5 -6 -3]]\n"
     ]
    }
   ],
   "source": [
    "import numpy as np\n",
    "gameA = np.random.randint(-10, 10, (5, 5))\n",
    "gameB = -gameA\n",
    "print(gameA)\n",
    "print(gameB)"
   ]
  },
  {
   "cell_type": "code",
   "execution_count": 9,
   "metadata": {},
   "outputs": [
    {
     "name": "stdout",
     "output_type": "stream",
     "text": [
      "(array([], dtype=int64),)\n"
     ]
    }
   ],
   "source": [
    " # Find dominant strategies for Player 1\n",
    "dominant_strategies_p1 = np.where(gameA.max(axis=1) == gameA.min(axis=1))[0]\n",
    "print(dominant_strategies_p1)\n",
    "# Find dominant strategies for Player 2\n",
    "dominant_strategies_p2 = np.where(gameB.max(axis=0) == gameB.min(axis=0))[0]\n",
    "# Find the intersection of dominant strategies for both players\n",
    "equilibrium_strategies = np.intersect1d(dominant_strategies_p1, dominant_strategies_p2)\n"
   ]
  }
 ],
 "metadata": {
  "kernelspec": {
   "display_name": "Python 3",
   "language": "python",
   "name": "python3"
  },
  "language_info": {
   "codemirror_mode": {
    "name": "ipython",
    "version": 3
   },
   "file_extension": ".py",
   "mimetype": "text/x-python",
   "name": "python",
   "nbconvert_exporter": "python",
   "pygments_lexer": "ipython3",
   "version": "3.12.1"
  }
 },
 "nbformat": 4,
 "nbformat_minor": 2
}
