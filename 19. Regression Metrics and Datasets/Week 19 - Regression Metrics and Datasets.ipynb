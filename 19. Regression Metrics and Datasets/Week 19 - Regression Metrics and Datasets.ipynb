{
 "cells": [
  {
   "cell_type": "markdown",
   "id": "9db56340",
   "metadata": {},
   "source": [
    "# Week 19 - Regression\n",
    "\n",
    "This week's exercises will focus on linear regression and the use of different metrics in evaluating regression performance.\n",
    "\n",
    "The learning objectives of this lab are as follows:\n",
    "- A. Implement a regression model using modern Python libraries.\n",
    "- B. Implement and compare four regression metrics.\n",
    "- C. Explain why datasets are split into training and testing.\n",
    "\n",
    "To begin, let's set up some imports:"
   ]
  },
  {
   "cell_type": "code",
   "execution_count": 30,
   "id": "b89c6a86",
   "metadata": {
    "ExecuteTime": {
     "end_time": "2024-02-08T05:56:51.748206Z",
     "start_time": "2024-02-08T05:56:51.639351Z"
    }
   },
   "outputs": [],
   "source": [
    "from sklearn.datasets import load_iris, make_regression # Dataset we will be using\n",
    "from sklearn.linear_model import LinearRegression\n",
    "import matplotlib.pyplot as plt\n",
    "import sklearn as sk\n",
    "import numpy as np"
   ]
  },
  {
   "cell_type": "markdown",
   "id": "7c3c6eea",
   "metadata": {},
   "source": [
    "## 1. Linear Regression\n",
    "\n",
    "Sklearn is a open-source, community driven Python library which contains most of the methods we will be using throughout the remainder of this course. This includes Linear Regression!\n",
    "\n",
    "The code below loads some sample data from an Iris flower dataset. In this case `x` will contain two features: the sepal length and the sepal width of a range of flowers. The target variable `y` is the petal length."
   ]
  },
  {
   "cell_type": "code",
   "execution_count": 31,
   "id": "c350966f",
   "metadata": {
    "ExecuteTime": {
     "end_time": "2024-02-08T05:56:51.768130Z",
     "start_time": "2024-02-08T05:56:51.750331Z"
    }
   },
   "outputs": [],
   "source": [
    "iris_data = load_iris()\n",
    "iris_x = iris_data['data'][:, :2]\n",
    "iris_y = iris_data['data'][:, 2]"
   ]
  },
  {
   "cell_type": "markdown",
   "id": "348ce376",
   "metadata": {},
   "source": [
    "### 1.1 TASK\n",
    "Use the `LinearRegression` class to create a linear model fitting `iris_x` to `iris_y`, the steps to do this are as follows:\n",
    "\n",
    "1. Instantiate an object of class LinearRegression.\n",
    "2. Call the `.fit(...)` function on your LinearRegression object using the appropriate `iris_x` and `iris_y` parameters to generate a linear model.\n",
    "3. Get predictions for your model and store them in a `lrg_preds` variable, to do this you should use the `.predict(...)` function.\n",
    "\n",
    "For help in the above task, refer to the [Linear Regression Documentation](https://scikit-learn.org/stable/modules/generated/sklearn.linear_model.LinearRegression.html#sklearn.linear_model.LinearRegression).\n",
    "\n",
    "Once you've got a model and a set of predictions, you've completed the task!"
   ]
  },
  {
   "cell_type": "code",
   "execution_count": 32,
   "id": "6cbde9ed",
   "metadata": {
    "ExecuteTime": {
     "end_time": "2024-02-08T05:56:51.804131Z",
     "start_time": "2024-02-08T05:56:51.784936Z"
    }
   },
   "outputs": [],
   "source": [
    "linear_model = LinearRegression()\n",
    "linear_model.fit(iris_x, iris_y)\n",
    "lrg_preds = linear_model.predict(iris_x)"
   ]
  },
  {
   "cell_type": "markdown",
   "id": "5fe6a5ba",
   "metadata": {},
   "source": [
    "Now we can query the model to find out its coefficients and y intercept using the model's `.coef_` and `intercept_` attributes."
   ]
  },
  {
   "cell_type": "code",
   "execution_count": 33,
   "id": "f8c1805a",
   "metadata": {
    "ExecuteTime": {
     "end_time": "2024-02-08T05:56:51.804602Z",
     "start_time": "2024-02-08T05:56:51.788666Z"
    }
   },
   "outputs": [
    {
     "data": {
      "text/plain": "(array([ 1.77559255, -1.33862329]), -2.524761511833392)"
     },
     "execution_count": 33,
     "metadata": {},
     "output_type": "execute_result"
    }
   ],
   "source": [
    "linear_model.coef_, linear_model.intercept_"
   ]
  },
  {
   "cell_type": "markdown",
   "id": "8c11116b",
   "metadata": {},
   "source": [
    "The coeficients are the equivalent to the parameters ($\\theta_{1,2}$) for each feature ($x_1$ and $x_2$), the y intercept is equivalent to $\\theta_0$ (the bias of the model).\n",
    "\n",
    "Therefore, the optimal parameters are as follows:\n",
    "\n",
    "$$\\theta=\\begin{bmatrix} {intercept} \\\\ {coef(0)} \\\\ {coef(1)} \\end{bmatrix}$$\n",
    "\n",
    "Remember to make our lives easier we assume $x_0$ is always 1, e.g.:\n",
    "\n",
    "$$x^0 = \\begin{bmatrix} 1 \\\\ x^{0}_{1} \\\\ x^{0}_{2} \\end{bmatrix}$$\n",
    "\n",
    "This gives us a hypothesis function of:\n",
    "\n",
    "$$h_{\\theta}(x)=(intercept)(x_0) + (coef[0])(x_1) + (coef[1])(x_2)$$"
   ]
  },
  {
   "cell_type": "markdown",
   "id": "9c56b91c",
   "metadata": {},
   "source": [
    "### 1.2 TASK\n",
    "\n",
    "Complete the method below such that it acts as a generalised hypothesis function for a given set of parameters ($\\theta$) and an input ($x^1$).\n",
    "\n",
    "1. parameters will be a Numpy array of length m+1 where m is the number of features.\n",
    "2. input_vector will be a Numpy array of length m."
   ]
  },
  {
   "cell_type": "code",
   "execution_count": 34,
   "id": "b2c4774d",
   "metadata": {
    "ExecuteTime": {
     "end_time": "2024-02-08T05:56:51.854094Z",
     "start_time": "2024-02-08T05:56:51.806147Z"
    }
   },
   "outputs": [],
   "source": [
    "def hypothesis(parameters, input_vector):\n",
    "    return np.dot(parameters, input_vector)"
   ]
  },
  {
   "cell_type": "markdown",
   "id": "b1bc12ed",
   "metadata": {},
   "source": [
    "## 2. Cost Functions\n",
    "\n",
    "In order to evaluate the performance of the model we need to define our cost functions.\n",
    "\n",
    "A common cost function is the Mean Squared Error (MSE). However, there are alternatives, for example the Mean Absolute Error (MAE) and Root-Mean Squared Error (RMSE). The equations for each of these is given below where $y$ is the set of true values, $\\hat{y}$ is the set of predictions and $n$ is the number of items in the predictions set.\n",
    "The equation for the MSE is given below:\n",
    "\n",
    "$$ MSE(y, \\hat{y}) = \\frac{1}{n}\\sum_{i=1}^{n}{(y_{i}-\\hat{y_i})^2}$$\n",
    "\n",
    "$$ MAE(y, \\hat{y}) = \\frac{1}{n}\\sum_{i=1}^{n}{(|y_{i}-\\hat{y_i})|}$$\n",
    "\n",
    "$$ RMSE(y, \\hat{y}) = \\sqrt{\\frac{1}{n}\\sum_{i=1}^{n}{(y_{i}-\\hat{y_i})^2}}$$\n",
    "\n",
    "### 2.1 TASK\n",
    "\n",
    "Implement these three functions using the skeleton code below."
   ]
  },
  {
   "cell_type": "code",
   "execution_count": 35,
   "id": "1abf5ac1",
   "metadata": {
    "ExecuteTime": {
     "end_time": "2024-02-08T05:56:51.857340Z",
     "start_time": "2024-02-08T05:56:51.821542Z"
    }
   },
   "outputs": [],
   "source": [
    "def mse(predictions, truth):\n",
    "    n = len(predictions)\n",
    "    return (1/n)*np.sum((truth-predictions)**2)"
   ]
  },
  {
   "cell_type": "code",
   "execution_count": 36,
   "id": "192152dc",
   "metadata": {
    "ExecuteTime": {
     "end_time": "2024-02-08T05:56:51.898336Z",
     "start_time": "2024-02-08T05:56:51.861194Z"
    }
   },
   "outputs": [],
   "source": [
    "def mae(predictions, truth):\n",
    "    n = len(predictions)\n",
    "    return (1/n)*np.sum(np.abs(truth-predictions))"
   ]
  },
  {
   "cell_type": "code",
   "execution_count": 37,
   "id": "88c40762",
   "metadata": {
    "ExecuteTime": {
     "end_time": "2024-02-08T05:56:51.906120Z",
     "start_time": "2024-02-08T05:56:51.886588Z"
    }
   },
   "outputs": [],
   "source": [
    "def rmse(predictions, truth):\n",
    "    return np.sqrt(mse(predictions, truth))"
   ]
  },
  {
   "cell_type": "markdown",
   "id": "9a1687b1",
   "metadata": {},
   "source": [
    "It's important to recognise the differences between these functions and the technical caveats when using them.\n",
    "\n",
    "For example, let's take a simple dataset consisting of one variable $(x)$, some true outputs $(y)$ and two sets of predictions $(\\hat{y_{0}}, \\hat{y_{1}})$. We can define these as Numpy arrays as shown below:"
   ]
  },
  {
   "cell_type": "code",
   "execution_count": 38,
   "id": "d2573aca",
   "metadata": {
    "ExecuteTime": {
     "end_time": "2024-02-08T05:56:51.921578Z",
     "start_time": "2024-02-08T05:56:51.910146Z"
    }
   },
   "outputs": [],
   "source": [
    "x = np.array([1, 2, 3, 4, 5])\n",
    "y = np.array([1, 2, 3, 4, 5])\n",
    "preds_0 = np.array([0.8, 2.2, 1.1, 3.7, 5.5])\n",
    "preds_1 = np.array([0.1, 2.9, 3.1, 4.8, 5.8])"
   ]
  },
  {
   "cell_type": "markdown",
   "id": "f7650dc2",
   "metadata": {},
   "source": [
    "To begin let's visualise the data:"
   ]
  },
  {
   "cell_type": "code",
   "execution_count": 39,
   "id": "0737e8ae",
   "metadata": {
    "ExecuteTime": {
     "end_time": "2024-02-08T05:56:52.053589Z",
     "start_time": "2024-02-08T05:56:51.923740Z"
    }
   },
   "outputs": [
    {
     "data": {
      "text/plain": "(0.0, 6.0)"
     },
     "execution_count": 39,
     "metadata": {},
     "output_type": "execute_result"
    },
    {
     "data": {
      "text/plain": "<Figure size 640x480 with 1 Axes>",
      "image/png": "[encoded data removed]"
     },
     "metadata": {},
     "output_type": "display_data"
    }
   ],
   "source": [
    "plt.plot(x, y)\n",
    "plt.scatter(x, preds_0, c='r')\n",
    "plt.scatter(x, preds_1, c='g')\n",
    "plt.ylim([0, 6])\n",
    "plt.xlim([0, 6])"
   ]
  },
  {
   "cell_type": "markdown",
   "id": "9a6ff256",
   "metadata": {},
   "source": [
    "As we can see, neither of the predictions are a great match to the intended output. However, there are some subtle differences. For example, the red predictions are pretty good except for an anomaly at position 3 where as the greens are more variable but consistent.\n",
    "\n",
    "### 2.2 TASK\n",
    "\n",
    "In the space below use your cost functions to evaluate both `preds_0` and `preds_1`."
   ]
  },
  {
   "cell_type": "code",
   "execution_count": 40,
   "id": "4abad8e7",
   "metadata": {
    "ExecuteTime": {
     "end_time": "2024-02-08T05:56:52.055115Z",
     "start_time": "2024-02-08T05:56:52.046541Z"
    }
   },
   "outputs": [
    {
     "name": "stdout",
     "output_type": "stream",
     "text": [
      "MSE preds_0: 0.8059999999999999\n",
      "MSE preds_1: 0.5819999999999999\n",
      "MAE preds_0: 0.62\n",
      "MAE preds_1: 0.7\n",
      "RMSE preds_0: 0.8977750274985375\n",
      "RMSE preds_1: 0.762889244910426\n"
     ]
    }
   ],
   "source": [
    "print(f\"\"\"MSE preds_0: {mse(y, preds_0)}\"\"\")\n",
    "print(f\"\"\"MSE preds_1: {mse(y, preds_1)}\"\"\")\n",
    "\n",
    "print(f\"\"\"MAE preds_0: {mae(y, preds_0)}\"\"\")\n",
    "print(f\"\"\"MAE preds_1: {mae(y, preds_1)}\"\"\")\n",
    "\n",
    "print(f\"\"\"RMSE preds_0: {rmse(y, preds_0)}\"\"\")\n",
    "print(f\"\"\"RMSE preds_1: {rmse(y, preds_1)}\"\"\")"
   ]
  },
  {
   "cell_type": "markdown",
   "source": [
    "### 2.2.1 Discussion\n",
    "Mean Squared Error: Measures average squared difference between the actual values and the pridicted values. Peanlises larger errors more than smaller errors because of squaring. It is sensitive to outliers.\n",
    "Used in regression problems.\n",
    "\n",
    "Mean Absolute Error: Measures the absolute difference between the actual values and the predicted values. Less sensitive to outliers. \n",
    "Used when outliers are common and you want to minimize the impact of large errors.\n",
    "\n",
    "Root Squared Mean Error: Estimate of standard diviation of errors.It peanalises larger errors more heavily than smaller errors. It is sensitive to outliers.\n",
    "Used in regression problems where you want to express error in the same unit as target variable.\n",
    "\n",
    "N.B: We can use all these errors to see if there any outliers in the data. If there is a large difference between the RMSE and MAE, then it is likely that there are outliers in the data."
   ],
   "metadata": {
    "collapsed": false
   },
   "id": "9f340f9f37392e56"
  },
  {
   "cell_type": "code",
   "execution_count": 40,
   "outputs": [],
   "source": [],
   "metadata": {
    "collapsed": false,
    "ExecuteTime": {
     "end_time": "2024-02-08T05:56:52.071653Z",
     "start_time": "2024-02-08T05:56:52.052153Z"
    }
   },
   "id": "25b0c63dbd9c0d22"
  },
  {
   "cell_type": "markdown",
   "id": "57cfec50",
   "metadata": {},
   "source": [
    "Hopefully you'll notice how the difference metrics give different indicators as to which prediction set is better.\n",
    "\n",
    "As a general rule of thumb the `MSE` and `RMSE` error metrics apply harsher penalties to larger errors. It's also worth noting that RMSE is provided in the same units as $y$.\n",
    "\n",
    "I suggest you take some time to explore this by changing the values in `preds_0` and `preds_1` to see what other things you notice.\n",
    "\n",
    "### 2.3 TASK\n",
    "Now you've got a handle on the cost functions above, use the space below to evaluate (in your own words) how your model from section 1 performs."
   ]
  },
  {
   "cell_type": "code",
   "execution_count": 41,
   "id": "dd968dfa",
   "metadata": {
    "ExecuteTime": {
     "end_time": "2024-02-08T05:56:52.219240Z",
     "start_time": "2024-02-08T05:56:52.056352Z"
    }
   },
   "outputs": [
    {
     "name": "stdout",
     "output_type": "stream",
     "text": [
      "MSE : 0.40957831218050467\n",
      "MAE : 0.5162246726456128\n",
      "RMSE : 0.6399830561667275\n"
     ]
    }
   ],
   "source": [
    "print(f\"\"\"MSE : {mse(iris_y, lrg_preds)}\"\"\")\n",
    "print(f\"\"\"MAE : {mae(iris_y, lrg_preds)}\"\"\")\n",
    "print(f\"\"\"RMSE : {rmse(iris_y, lrg_preds)}\"\"\")"
   ]
  },
  {
   "cell_type": "markdown",
   "id": "301d4da8",
   "metadata": {},
   "source": [
    "## 2. Problem\n",
    "\n",
    "Now it's your turn to resolve a regression problem using a new error metric.\n",
    "\n",
    "The $R^2$ metric is known as the coefficient of determination and provides a way of measuring the 'goodness of fit' of a given model. Technically it describes the percentage of variation which can be explained by the $x$ values. The equation for calculating $R^2$ is given below:\n",
    "\n",
    "$$ R^{2}=1-\\frac{\\sum{(y_i - \\hat{y_i})^2}}{\\sum{(y_i - \\bar{y})^2}}$$\n",
    "\n",
    "here $y_i$ is a true value for item $i$, $\\hat{y_i}$ is the prediction for item $i$ and $\\bar{y}$ is the average value of $y$. For more information refer to $R^2$ documentation [here](https://www.ncl.ac.uk/webtemplate/ask-assets/external/maths-resources/statistics/regression-and-correlation/coefficient-of-determination-r-squared.html).\n",
    "\n",
    "Below you have been given both a dataset consisting of 5 features and 1 output value, using what you've learnt in this exercise sheet you must:\n",
    "1. Write a new function which calculates the $R^2$ value for a given set of predicted and true values.\n",
    "2. Train a linear regression model using the training data.\n",
    "3. Perform an evaluation of the model using the testing data and the three evaluation metrics you implemented in section 2 and your new $R^2$ metric.\n",
    "\n",
    "An outline has been provided through the use of headings."
   ]
  },
  {
   "cell_type": "markdown",
   "id": "225ea9ea",
   "metadata": {},
   "source": [
    "### Dataset"
   ]
  },
  {
   "cell_type": "code",
   "execution_count": 42,
   "id": "fcaeb54c",
   "metadata": {
    "ExecuteTime": {
     "end_time": "2024-02-08T05:56:52.241321Z",
     "start_time": "2024-02-08T05:56:52.069830Z"
    }
   },
   "outputs": [],
   "source": [
    "X, Y = make_regression(n_samples=200, n_features=5, n_informative=5, noise=10, random_state=0)"
   ]
  },
  {
   "cell_type": "markdown",
   "id": "ffce1273",
   "metadata": {},
   "source": [
    "### R-Squared Method"
   ]
  },
  {
   "cell_type": "code",
   "execution_count": 43,
   "id": "ab142933",
   "metadata": {
    "ExecuteTime": {
     "end_time": "2024-02-08T05:56:52.242526Z",
     "start_time": "2024-02-08T05:56:52.074095Z"
    }
   },
   "outputs": [],
   "source": [
    "def r_squared(predictions, truth):\n",
    "    y_bar = np.mean(truth)\n",
    "    return 1-((np.sum(truth - predictions)**2)/(np.sum((truth-y_bar)**2)))"
   ]
  },
  {
   "cell_type": "markdown",
   "id": "319298e6",
   "metadata": {},
   "source": [
    "### Training a model"
   ]
  },
  {
   "cell_type": "code",
   "execution_count": 44,
   "id": "d20a981f",
   "metadata": {
    "ExecuteTime": {
     "end_time": "2024-02-08T05:56:52.243589Z",
     "start_time": "2024-02-08T05:56:52.082223Z"
    }
   },
   "outputs": [],
   "source": [
    "model = LinearRegression()\n",
    "model.fit(X, Y)\n",
    "preds = model.predict(X)"
   ]
  },
  {
   "cell_type": "markdown",
   "id": "0dfe59e2",
   "metadata": {},
   "source": [
    "### Testing a model"
   ]
  },
  {
   "cell_type": "code",
   "execution_count": 45,
   "id": "3559fef9",
   "metadata": {
    "ExecuteTime": {
     "end_time": "2024-02-08T05:56:52.256240Z",
     "start_time": "2024-02-08T05:56:52.088744Z"
    }
   },
   "outputs": [
    {
     "name": "stdout",
     "output_type": "stream",
     "text": [
      "MSE : 106.05540331450226\n",
      "MAE : 8.25503219975435\n",
      "RMSE : 10.298320412305214\n",
      "R Squared : 1.0\n"
     ]
    }
   ],
   "source": [
    "print(f\"\"\"MSE : {mse(Y, preds)}\"\"\")\n",
    "print(f\"\"\"MAE : {mae(Y, preds)}\"\"\")\n",
    "print(f\"\"\"RMSE : {rmse(Y, preds)}\"\"\")\n",
    "print(f\"\"\"R Squared : {r_squared(Y, preds)}\"\"\")"
   ]
  },
  {
   "cell_type": "markdown",
   "id": "3dac26c4",
   "metadata": {},
   "source": [
    "## 3. Independent Learning\n",
    "\n",
    "Now it's time for you to do some independent learning, using the great power of Google along with the following resources explore the roles of 'Training', 'Testing' and 'Validation' datasets.\n",
    "\n",
    "> https://mlu-explain.github.io/train-test-validation/\n",
    "\n",
    "By the end of your reading you must be able to answer the following questions:\n",
    "\n",
    "1. Describe the terms training, testing and validation datasets."
   ]
  },
  {
   "cell_type": "code",
   "execution_count": 46,
   "id": "4190f29e",
   "metadata": {
    "ExecuteTime": {
     "end_time": "2024-02-08T05:56:52.340059Z",
     "start_time": "2024-02-08T05:56:52.093832Z"
    }
   },
   "outputs": [
    {
     "name": "stdout",
     "output_type": "stream",
     "text": [
      "/Users/varniethan\n"
     ]
    }
   ],
   "source": [
    "import os\n",
    "\n",
    "print(os.getcwd())"
   ]
  },
  {
   "cell_type": "markdown",
   "id": "cab20c28",
   "metadata": {},
   "source": [
    "2. What are the most common ratios for splitting data between training, testing and validation?"
   ]
  },
  {
   "cell_type": "code",
   "execution_count": 46,
   "id": "b4e1591b",
   "metadata": {
    "ExecuteTime": {
     "end_time": "2024-02-08T05:56:52.341390Z",
     "start_time": "2024-02-08T05:56:52.100083Z"
    }
   },
   "outputs": [],
   "source": [
    "\"\"\"\n",
    "60%-80% training data\n",
    "10%-20% testing data\n",
    "10%-20% validation data\n",
    "\"\"\"\n"
   ]
  },
  {
   "cell_type": "markdown",
   "id": "ecd0ee97",
   "metadata": {},
   "source": [
    "3. What are the advantages and disadvantages to splitting data this way?"
   ]
  },
  {
   "cell_type": "code",
   "execution_count": 46,
   "id": "119ead00",
   "metadata": {
    "ExecuteTime": {
     "end_time": "2024-02-08T05:56:52.342357Z",
     "start_time": "2024-02-08T05:56:52.103343Z"
    }
   },
   "outputs": [],
   "source": []
  },
  {
   "cell_type": "markdown",
   "id": "ae81aea2",
   "metadata": {},
   "source": [
    "Finally, if you want to explore further regression metrics feel free to take a look at the sklearn metrics available [here](https://scikit-learn.org/stable/modules/model_evaluation.html#regression-metrics) in future exercises do not feel you need to implemented regression metrics by first-principles you may use the sklearn implementations.\n",
    "\n",
    "## (Optional) 4. House Prices [Pandas]\n",
    "\n",
    "A dataset has been provided on Moodle called 'house_price.csv' which contains details of home sales, below I have provided code which displays the first five rows of the dataset and how to extract certain parts of the data."
   ]
  },
  {
   "cell_type": "code",
   "execution_count": 47,
   "id": "bf7e42a4",
   "metadata": {
    "ExecuteTime": {
     "end_time": "2024-02-08T05:56:52.343239Z",
     "start_time": "2024-02-08T05:56:52.107759Z"
    }
   },
   "outputs": [],
   "source": [
    "import pandas as pd"
   ]
  },
  {
   "cell_type": "code",
   "execution_count": 48,
   "id": "dd3eda1d",
   "metadata": {
    "ExecuteTime": {
     "end_time": "2024-02-08T05:56:52.380121Z",
     "start_time": "2024-02-08T05:56:52.245880Z"
    }
   },
   "outputs": [],
   "source": [
    "# Load the dataset\n",
    "dataset = pd.read_csv(\"/Users/varniethan/Projects/Machine-Learning/19. Regression Metrics and Datasets/house_price_data.csv\")"
   ]
  },
  {
   "cell_type": "code",
   "execution_count": 49,
   "id": "443f4bec",
   "metadata": {
    "ExecuteTime": {
     "end_time": "2024-02-08T05:56:52.431511Z",
     "start_time": "2024-02-08T05:56:52.383885Z"
    }
   },
   "outputs": [
    {
     "data": {
      "text/plain": "           id             date     price  bedrooms  bathrooms  sqft_living  \\\n0  7129300520  20141013T000000  221900.0         3       1.00         1180   \n1  6414100192  20141209T000000  538000.0         3       2.25         2570   \n2  5631500400  20150225T000000  180000.0         2       1.00          770   \n3  2487200875  20141209T000000  604000.0         4       3.00         1960   \n4  1954400510  20150218T000000  510000.0         3       2.00         1680   \n\n   sqft_lot  floors  waterfront  view  ...  grade  sqft_above  sqft_basement  \\\n0      5650     1.0           0     0  ...      7        1180              0   \n1      7242     2.0           0     0  ...      7        2170            400   \n2     10000     1.0           0     0  ...      6         770              0   \n3      5000     1.0           0     0  ...      7        1050            910   \n4      8080     1.0           0     0  ...      8        1680              0   \n\n   yr_built  yr_renovated  zipcode      lat     long  sqft_living15  \\\n0      1955             0    98178  47.5112 -122.257           1340   \n1      1951          1991    98125  47.7210 -122.319           1690   \n2      1933             0    98028  47.7379 -122.233           2720   \n3      1965             0    98136  47.5208 -122.393           1360   \n4      1987             0    98074  47.6168 -122.045           1800   \n\n   sqft_lot15  \n0        5650  \n1        7639  \n2        8062  \n3        5000  \n4        7503  \n\n[5 rows x 21 columns]",
      "text/html": "<div>\n<style scoped>\n    .dataframe tbody tr th:only-of-type {\n        vertical-align: middle;\n    }\n\n    .dataframe tbody tr th {\n        vertical-align: top;\n    }\n\n    .dataframe thead th {\n        text-align: right;\n    }\n</style>\n<table border=\"1\" class=\"dataframe\">\n  <thead>\n    <tr style=\"text-align: right;\">\n      <th></th>\n      <th>id</th>\n      <th>date</th>\n      <th>price</th>\n      <th>bedrooms</th>\n      <th>bathrooms</th>\n      <th>sqft_living</th>\n      <th>sqft_lot</th>\n      <th>floors</th>\n      <th>waterfront</th>\n      <th>view</th>\n      <th>...</th>\n      <th>grade</th>\n      <th>sqft_above</th>\n      <th>sqft_basement</th>\n      <th>yr_built</th>\n      <th>yr_renovated</th>\n      <th>zipcode</th>\n      <th>lat</th>\n      <th>long</th>\n      <th>sqft_living15</th>\n      <th>sqft_lot15</th>\n    </tr>\n  </thead>\n  <tbody>\n    <tr>\n      <th>0</th>\n      <td>7129300520</td>\n      <td>20141013T000000</td>\n      <td>221900.0</td>\n      <td>3</td>\n      <td>1.00</td>\n      <td>1180</td>\n      <td>5650</td>\n      <td>1.0</td>\n      <td>0</td>\n      <td>0</td>\n      <td>...</td>\n      <td>7</td>\n      <td>1180</td>\n      <td>0</td>\n      <td>1955</td>\n      <td>0</td>\n      <td>98178</td>\n      <td>47.5112</td>\n      <td>-122.257</td>\n      <td>1340</td>\n      <td>5650</td>\n    </tr>\n    <tr>\n      <th>1</th>\n      <td>6414100192</td>\n      <td>20141209T000000</td>\n      <td>538000.0</td>\n      <td>3</td>\n      <td>2.25</td>\n      <td>2570</td>\n      <td>7242</td>\n      <td>2.0</td>\n      <td>0</td>\n      <td>0</td>\n      <td>...</td>\n      <td>7</td>\n      <td>2170</td>\n      <td>400</td>\n      <td>1951</td>\n      <td>1991</td>\n      <td>98125</td>\n      <td>47.7210</td>\n      <td>-122.319</td>\n      <td>1690</td>\n      <td>7639</td>\n    </tr>\n    <tr>\n      <th>2</th>\n      <td>5631500400</td>\n      <td>20150225T000000</td>\n      <td>180000.0</td>\n      <td>2</td>\n      <td>1.00</td>\n      <td>770</td>\n      <td>10000</td>\n      <td>1.0</td>\n      <td>0</td>\n      <td>0</td>\n      <td>...</td>\n      <td>6</td>\n      <td>770</td>\n      <td>0</td>\n      <td>1933</td>\n      <td>0</td>\n      <td>98028</td>\n      <td>47.7379</td>\n      <td>-122.233</td>\n      <td>2720</td>\n      <td>8062</td>\n    </tr>\n    <tr>\n      <th>3</th>\n      <td>2487200875</td>\n      <td>20141209T000000</td>\n      <td>604000.0</td>\n      <td>4</td>\n      <td>3.00</td>\n      <td>1960</td>\n      <td>5000</td>\n      <td>1.0</td>\n      <td>0</td>\n      <td>0</td>\n      <td>...</td>\n      <td>7</td>\n      <td>1050</td>\n      <td>910</td>\n      <td>1965</td>\n      <td>0</td>\n      <td>98136</td>\n      <td>47.5208</td>\n      <td>-122.393</td>\n      <td>1360</td>\n      <td>5000</td>\n    </tr>\n    <tr>\n      <th>4</th>\n      <td>1954400510</td>\n      <td>20150218T000000</td>\n      <td>510000.0</td>\n      <td>3</td>\n      <td>2.00</td>\n      <td>1680</td>\n      <td>8080</td>\n      <td>1.0</td>\n      <td>0</td>\n      <td>0</td>\n      <td>...</td>\n      <td>8</td>\n      <td>1680</td>\n      <td>0</td>\n      <td>1987</td>\n      <td>0</td>\n      <td>98074</td>\n      <td>47.6168</td>\n      <td>-122.045</td>\n      <td>1800</td>\n      <td>7503</td>\n    </tr>\n  </tbody>\n</table>\n<p>5 rows × 21 columns</p>\n</div>"
     },
     "execution_count": 49,
     "metadata": {},
     "output_type": "execute_result"
    }
   ],
   "source": [
    "# Show the first five rows\n",
    "dataset.head(5)"
   ]
  },
  {
   "cell_type": "code",
   "execution_count": 50,
   "id": "06db5c56",
   "metadata": {
    "ExecuteTime": {
     "end_time": "2024-02-08T05:56:52.461502Z",
     "start_time": "2024-02-08T05:56:52.432424Z"
    }
   },
   "outputs": [
    {
     "data": {
      "text/plain": "0        3\n1        3\n2        2\n3        4\n4        3\n        ..\n21608    3\n21609    4\n21610    2\n21611    3\n21612    2\nName: bedrooms, Length: 21613, dtype: int64"
     },
     "execution_count": 50,
     "metadata": {},
     "output_type": "execute_result"
    }
   ],
   "source": [
    "# Extract the column of bedrooms\n",
    "dataset['bedrooms']"
   ]
  },
  {
   "cell_type": "markdown",
   "id": "4ab585fa",
   "metadata": {},
   "source": [
    "### TASK 4.1: Split Data\n",
    "\n",
    "Your first task is to split the data into at least a train and test set."
   ]
  },
  {
   "cell_type": "code",
   "execution_count": 51,
   "id": "74651a8e",
   "metadata": {
    "ExecuteTime": {
     "end_time": "2024-02-08T06:00:52.135736Z",
     "start_time": "2024-02-08T06:00:52.113990Z"
    }
   },
   "outputs": [],
   "source": [
    "from sklearn.model_selection import train_test_split\n",
    "train, test = train_test_split(dataset, test_size=0.2)"
   ]
  },
  {
   "cell_type": "markdown",
   "id": "d69858fc",
   "metadata": {},
   "source": [
    "### TASK 4.2: Predicting House Price\n",
    "\n",
    "Using the training data you extracted perform three experiments using different sets of features (e.g. bedrooms and bathrooms or bedrooms and sqft_living) to predict the price of the house."
   ]
  },
  {
   "cell_type": "code",
   "execution_count": 50,
   "id": "e1c6dfe4",
   "metadata": {
    "ExecuteTime": {
     "end_time": "2024-02-08T05:56:52.503502Z",
     "start_time": "2024-02-08T05:56:52.467194Z"
    }
   },
   "outputs": [],
   "source": []
  },
  {
   "cell_type": "markdown",
   "id": "bfd2461b",
   "metadata": {},
   "source": [
    "### Task 4.3: Evaluate Selections\n",
    "\n",
    "Evlauate your models from task 4.2 using your test data from task 4.1. Which model predicts house price the best? Why do you think that is?"
   ]
  },
  {
   "cell_type": "code",
   "execution_count": 50,
   "id": "08c72027",
   "metadata": {
    "ExecuteTime": {
     "end_time": "2024-02-08T05:56:52.549748Z",
     "start_time": "2024-02-08T05:56:52.497601Z"
    }
   },
   "outputs": [],
   "source": []
  }
 ],
 "metadata": {
  "kernelspec": {
   "display_name": "Python 3 (ipykernel)",
   "language": "python",
   "name": "python3"
  },
  "language_info": {
   "codemirror_mode": {
    "name": "ipython",
    "version": 3
   },
   "file_extension": ".py",
   "mimetype": "text/x-python",
   "name": "python",
   "nbconvert_exporter": "python",
   "pygments_lexer": "ipython3",
   "version": "3.11.5"
  }
 },
 "nbformat": 4,
 "nbformat_minor": 5
}
